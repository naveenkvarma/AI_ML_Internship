{
 "cells": [
  {
   "cell_type": "markdown",
   "id": "c4b16e61-8ad9-4880-92ca-8478e9429b00",
   "metadata": {},
   "source": [
    "# Data Science Tools and Ecosystem\n"
   ]
  },
  {
   "cell_type": "markdown",
   "id": "a9a885c8-cd05-4373-aa68-343199021f97",
   "metadata": {},
   "source": [
    "In this notebook, Data Science Tools and Ecosystems are summarized."
   ]
  },
  {
   "cell_type": "markdown",
   "id": "3ca5e963-344b-4df1-8dfa-29ed1bea53e5",
   "metadata": {},
   "source": [
    "- Python\n",
    "- R\n",
    "- SQL\n",
    "- Java\n",
    "- C++"
   ]
  },
  {
   "cell_type": "markdown",
   "id": "90d248df-3cd7-4d5d-a85a-30126c0258d4",
   "metadata": {},
   "source": [
    "- NumPy\n",
    "- Pandas\n",
    "- Matplotlib\n",
    "- TensorFlow\n",
    "- PyTorch\n",
    "- Scikit-learn\n",
    "- Requests\n",
    "- Keras\n",
    "- Seaborn"
   ]
  },
  {
   "cell_type": "markdown",
   "id": "afc7deda-b1a4-47ee-9981-58bcf0c5bb36",
   "metadata": {},
   "source": [
    "### Data Science Tools\n",
    "\n",
    "| Tool Name      |\n",
    "|---------------|\n",
    "| Jupyter Notebook |\n",
    "| RStudio        |\n",
    "| Apache Spark   |\n",
    "| TensorFlow     |\n",
    "| PyTorch       |\n",
    "| Tableau        |\n",
    "| RapidMiner     |\n"
   ]
  },
  {
   "cell_type": "markdown",
   "id": "37d9ab2f-a521-4bcd-a7e8-2e0cd3ed4307",
   "metadata": {},
   "source": [
    "## Arithmetic Expression Examples\n",
    "\n",
    "Arithmetic expressions are mathematical calculations that involve numbers and operators such as addition, subtraction, multiplication, and division.\n"
   ]
  },
  {
   "cell_type": "code",
   "execution_count": 4,
   "id": "ac5e9d2f-8206-4804-8262-a80652906ed3",
   "metadata": {},
   "outputs": [
    {
     "name": "stdout",
     "output_type": "stream",
     "text": [
      "Multiplication Result: 15\n",
      "Final Result after Addition: 22\n"
     ]
    }
   ],
   "source": [
    "# Multiplication and Addition\n",
    "\n",
    "# Define numbers\n",
    "num1 = 5\n",
    "num2 = 3\n",
    "num3 = 7\n",
    "\n",
    "# Perform operations\n",
    "multiplication_result = num1 * num2\n",
    "addition_result = multiplication_result + num3\n",
    "\n",
    "# Print results\n",
    "print(\"Multiplication Result:\", multiplication_result)\n",
    "print(\"Final Result after Addition:\", addition_result)\n"
   ]
  },
  {
   "cell_type": "code",
   "execution_count": 6,
   "id": "85003375-7102-4dbf-9fa9-dde350b8aab3",
   "metadata": {},
   "outputs": [
    {
     "name": "stdout",
     "output_type": "stream",
     "text": [
      "150 minutes is equal to 2.5 hours\n"
     ]
    }
   ],
   "source": [
    "# Convert minutes to hours\n",
    "\n",
    "# Define minutes\n",
    "minutes = 150\n",
    "\n",
    "# Convert to hours\n",
    "hours = minutes / 60\n",
    "\n",
    "# Print result\n",
    "print(f\"{minutes} minutes is equal to {hours} hours\")\n"
   ]
  },
  {
   "cell_type": "markdown",
   "id": "bc75afe6-3e50-400b-b816-565404fa3abd",
   "metadata": {},
   "source": [
    "# Introduction to Data Science Tools\n",
    "\n",
    "Data Science involves various tools that help in data analysis, visualization, machine learning, and more. Below is a list of some commonly used Data Science tools:\n",
    "\n",
    "- Jupyter Notebook  \n",
    "- RStudio  \n",
    "- Apache Spark  \n",
    "- TensorFlow  \n",
    "- Scikit-learn  \n"
   ]
  },
  {
   "cell_type": "code",
   "execution_count": null,
   "id": "a010d85c-c0a0-466c-b0c3-4c3ec5b83310",
   "metadata": {},
   "outputs": [],
   "source": []
  }
 ],
 "metadata": {
  "kernelspec": {
   "display_name": "Python [conda env:base] *",
   "language": "python",
   "name": "conda-base-py"
  },
  "language_info": {
   "codemirror_mode": {
    "name": "ipython",
    "version": 3
   },
   "file_extension": ".py",
   "mimetype": "text/x-python",
   "name": "python",
   "nbconvert_exporter": "python",
   "pygments_lexer": "ipython3",
   "version": "3.12.7"
  }
 },
 "nbformat": 4,
 "nbformat_minor": 5
}
